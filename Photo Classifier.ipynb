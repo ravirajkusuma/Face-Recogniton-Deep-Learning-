{
 "cells": [
  {
   "cell_type": "markdown",
   "id": "d13ca6c2-3968-453c-b9eb-ab4c762c2b44",
   "metadata": {},
   "source": [
    "### Photo Classifier"
   ]
  },
  {
   "cell_type": "code",
   "execution_count": 1,
   "id": "55fc6490-b74d-4c35-9112-c5951f5a7257",
   "metadata": {},
   "outputs": [],
   "source": [
    "import os\n",
    "import cv2\n",
    "import numpy as np\n",
    "import face_recognition\n",
    "from sklearn.cluster import DBSCAN\n",
    "import shutil\n",
    "vs\n",
    "# Load images from a directory\n",
    "def load_images(image_dir):\n",
    "    image_paths = []\n",
    "    for filename in os.listdir(image_dir):\n",
    "        path = os.path.join(image_dir, filename)\n",
    "        img = cv2.imread(path)\n",
    "        if img is not None:  # Ensure the image is valid\n",
    "            image_paths.append(path)\n",
    "    return image_paths\n",
    "\n",
    "# Detect faces & extract embeddings\n",
    "def get_face_embeddings(image_paths):\n",
    "    encodings = []\n",
    "    valid_paths = []\n",
    "    for path in image_paths:\n",
    "        img = face_recognition.load_image_file(path)\n",
    "        face_encodings = face_recognition.face_encodings(img)\n",
    "\n",
    "        if face_encodings:  # Ensure a face is detected\n",
    "            encodings.append(face_encodings[0])\n",
    "            valid_paths.append(path)\n",
    "    \n",
    "    return encodings, valid_paths\n"
   ]
  },
  {
   "cell_type": "code",
   "execution_count": 2,
   "id": "99055b6e-3089-4360-97c3-924e279d030f",
   "metadata": {},
   "outputs": [],
   "source": [
    "# Cluster faces using DBSCAN\n",
    "def cluster_faces(encodings):\n",
    "    # clustering = DBSCAN(eps=0.5, min_samples=2, metric=\"euclidean\").fit(encodings)\n",
    "    clustering = DBSCAN(eps=0.46, min_samples=2, metric=\"euclidean\").fit(encodings)\n",
    "    return clustering.labels_\n"
   ]
  },
  {
   "cell_type": "code",
   "execution_count": 3,
   "id": "85cdd8e1-a029-482a-8ed5-bc2d4a3e049d",
   "metadata": {},
   "outputs": [],
   "source": [
    "def save_clustered_faces(image_paths, labels, output_dir):\n",
    "    os.makedirs(output_dir, exist_ok=True)\n",
    "    \n",
    "    for path, label in zip(image_paths, labels):\n",
    "        person_folder = os.path.join(output_dir, f\"person_{label}\")\n",
    "        os.makedirs(person_folder, exist_ok=True)\n",
    "        shutil.copy(path, person_folder)\n"
   ]
  },
  {
   "cell_type": "code",
   "execution_count": 4,
   "id": "872afb64-a3c7-42e3-a74b-9ab80469199f",
   "metadata": {},
   "outputs": [
    {
     "name": "stdout",
     "output_type": "stream",
     "text": [
      "Photos classified successfully!\n"
     ]
    }
   ],
   "source": [
    "image_dir = \"input_photos_trump\"\n",
    "output_dir = \"classified_faces_trump\"\n",
    "\n",
    "# images, image_paths = load_images(image_dir)\n",
    "image_paths = load_images(image_dir)\n",
    "encodings, valid_paths = get_face_embeddings(image_paths)\n",
    "labels = cluster_faces(encodings)\n",
    "save_clustered_faces(valid_paths, labels, output_dir)\n",
    "\n",
    "print(\"Photos classified successfully!\")\n"
   ]
  },
  {
   "cell_type": "code",
   "execution_count": null,
   "id": "7c958d37-2a87-4171-b2dd-316e852eeb16",
   "metadata": {},
   "outputs": [],
   "source": []
  }
 ],
 "metadata": {
  "kernelspec": {
   "display_name": "Python 3 (ipykernel)",
   "language": "python",
   "name": "python3"
  },
  "language_info": {
   "codemirror_mode": {
    "name": "ipython",
    "version": 3
   },
   "file_extension": ".py",
   "mimetype": "text/x-python",
   "name": "python",
   "nbconvert_exporter": "python",
   "pygments_lexer": "ipython3",
   "version": "3.12.3"
  }
 },
 "nbformat": 4,
 "nbformat_minor": 5
}
